{
 "cells": [
  {
   "cell_type": "code",
   "execution_count": 1,
   "id": "45c88e15-4352-425f-9bf8-7a4e52063a89",
   "metadata": {},
   "outputs": [
    {
     "name": "stdout",
     "output_type": "stream",
     "text": [
      "Collecting transformers==4.40.0\n",
      "  Downloading transformers-4.40.0-py3-none-any.whl.metadata (137 kB)\n",
      "Collecting torch==2.2.0\n",
      "  Downloading torch-2.2.0-cp311-none-macosx_10_9_x86_64.whl.metadata (25 kB)\n",
      "Requirement already satisfied: filelock in /Users/elifakdeniz/opt/anaconda3/envs/jupyterfix/lib/python3.11/site-packages (from transformers==4.40.0) (3.18.0)\n",
      "Requirement already satisfied: huggingface-hub<1.0,>=0.19.3 in /Users/elifakdeniz/opt/anaconda3/envs/jupyterfix/lib/python3.11/site-packages (from transformers==4.40.0) (0.33.4)\n",
      "Requirement already satisfied: numpy>=1.17 in /Users/elifakdeniz/opt/anaconda3/envs/jupyterfix/lib/python3.11/site-packages (from transformers==4.40.0) (1.24.4)\n",
      "Requirement already satisfied: packaging>=20.0 in /Users/elifakdeniz/opt/anaconda3/envs/jupyterfix/lib/python3.11/site-packages (from transformers==4.40.0) (24.2)\n",
      "Requirement already satisfied: pyyaml>=5.1 in /Users/elifakdeniz/opt/anaconda3/envs/jupyterfix/lib/python3.11/site-packages (from transformers==4.40.0) (6.0.2)\n",
      "Requirement already satisfied: regex!=2019.12.17 in /Users/elifakdeniz/opt/anaconda3/envs/jupyterfix/lib/python3.11/site-packages (from transformers==4.40.0) (2024.11.6)\n",
      "Requirement already satisfied: requests in /Users/elifakdeniz/opt/anaconda3/envs/jupyterfix/lib/python3.11/site-packages (from transformers==4.40.0) (2.32.4)\n",
      "Collecting tokenizers<0.20,>=0.19 (from transformers==4.40.0)\n",
      "  Downloading tokenizers-0.19.1-cp311-cp311-macosx_10_12_x86_64.whl.metadata (6.7 kB)\n",
      "Requirement already satisfied: safetensors>=0.4.1 in /Users/elifakdeniz/opt/anaconda3/envs/jupyterfix/lib/python3.11/site-packages (from transformers==4.40.0) (0.5.3)\n",
      "Requirement already satisfied: tqdm>=4.27 in /Users/elifakdeniz/opt/anaconda3/envs/jupyterfix/lib/python3.11/site-packages (from transformers==4.40.0) (4.67.1)\n",
      "Requirement already satisfied: typing-extensions>=4.8.0 in /Users/elifakdeniz/opt/anaconda3/envs/jupyterfix/lib/python3.11/site-packages (from torch==2.2.0) (4.12.2)\n",
      "Requirement already satisfied: sympy in /Users/elifakdeniz/opt/anaconda3/envs/jupyterfix/lib/python3.11/site-packages (from torch==2.2.0) (1.14.0)\n",
      "Requirement already satisfied: networkx in /Users/elifakdeniz/opt/anaconda3/envs/jupyterfix/lib/python3.11/site-packages (from torch==2.2.0) (3.5)\n",
      "Requirement already satisfied: jinja2 in /Users/elifakdeniz/opt/anaconda3/envs/jupyterfix/lib/python3.11/site-packages (from torch==2.2.0) (3.1.6)\n",
      "Requirement already satisfied: fsspec in /Users/elifakdeniz/opt/anaconda3/envs/jupyterfix/lib/python3.11/site-packages (from torch==2.2.0) (2025.7.0)\n",
      "Requirement already satisfied: hf-xet<2.0.0,>=1.1.2 in /Users/elifakdeniz/opt/anaconda3/envs/jupyterfix/lib/python3.11/site-packages (from huggingface-hub<1.0,>=0.19.3->transformers==4.40.0) (1.1.5)\n",
      "Requirement already satisfied: MarkupSafe>=2.0 in /Users/elifakdeniz/opt/anaconda3/envs/jupyterfix/lib/python3.11/site-packages (from jinja2->torch==2.2.0) (3.0.2)\n",
      "Requirement already satisfied: charset_normalizer<4,>=2 in /Users/elifakdeniz/opt/anaconda3/envs/jupyterfix/lib/python3.11/site-packages (from requests->transformers==4.40.0) (3.3.2)\n",
      "Requirement already satisfied: idna<4,>=2.5 in /Users/elifakdeniz/opt/anaconda3/envs/jupyterfix/lib/python3.11/site-packages (from requests->transformers==4.40.0) (3.7)\n",
      "Requirement already satisfied: urllib3<3,>=1.21.1 in /Users/elifakdeniz/opt/anaconda3/envs/jupyterfix/lib/python3.11/site-packages (from requests->transformers==4.40.0) (2.5.0)\n",
      "Requirement already satisfied: certifi>=2017.4.17 in /Users/elifakdeniz/opt/anaconda3/envs/jupyterfix/lib/python3.11/site-packages (from requests->transformers==4.40.0) (2025.6.15)\n",
      "Requirement already satisfied: mpmath<1.4,>=1.1.0 in /Users/elifakdeniz/opt/anaconda3/envs/jupyterfix/lib/python3.11/site-packages (from sympy->torch==2.2.0) (1.3.0)\n",
      "Downloading transformers-4.40.0-py3-none-any.whl (9.0 MB)\n",
      "\u001b[2K   \u001b[90m━━━━━━━━━━━━━━━━━━━━━━━━━━━━━━━━━━━━━━━━\u001b[0m \u001b[32m9.0/9.0 MB\u001b[0m \u001b[31m7.6 MB/s\u001b[0m eta \u001b[36m0:00:00\u001b[0ma \u001b[36m0:00:01\u001b[0m\n",
      "\u001b[?25hDownloading torch-2.2.0-cp311-none-macosx_10_9_x86_64.whl (150.6 MB)\n",
      "\u001b[2K   \u001b[90m━━━━━━━━━━━━━━━━━━━━━━━━━━━━━━━━━━━━━━━━\u001b[0m \u001b[32m150.6/150.6 MB\u001b[0m \u001b[31m10.2 MB/s\u001b[0m eta \u001b[36m0:00:00\u001b[0m00:01\u001b[0m00:01\u001b[0m\n",
      "\u001b[?25hDownloading tokenizers-0.19.1-cp311-cp311-macosx_10_12_x86_64.whl (2.5 MB)\n",
      "\u001b[2K   \u001b[90m━━━━━━━━━━━━━━━━━━━━━━━━━━━━━━━━━━━━━━━━\u001b[0m \u001b[32m2.5/2.5 MB\u001b[0m \u001b[31m6.4 MB/s\u001b[0m eta \u001b[36m0:00:00\u001b[0mta \u001b[36m0:00:01\u001b[0m\n",
      "\u001b[?25hInstalling collected packages: torch, tokenizers, transformers\n",
      "\u001b[2K  Attempting uninstall: torch\n",
      "\u001b[2K    Found existing installation: torch 2.2.2\n",
      "\u001b[2K    Uninstalling torch-2.2.2:━━━━━━━━━━━━━━━━━━━\u001b[0m \u001b[32m0/3\u001b[0m [torch]\n",
      "\u001b[2K      Successfully uninstalled torch-2.2.2━━━━━━\u001b[0m \u001b[32m0/3\u001b[0m [torch]\n",
      "\u001b[2K  Attempting uninstall: tokenizers━━━━━━━━━━━━━━\u001b[0m \u001b[32m0/3\u001b[0m [torch]\n",
      "\u001b[2K    Found existing installation: tokenizers 0.21.2[32m0/3\u001b[0m [torch]\n",
      "\u001b[2K    Uninstalling tokenizers-0.21.2:━━━━━━━━━\u001b[0m \u001b[32m0/3\u001b[0m [torch]\n",
      "\u001b[2K      Successfully uninstalled tokenizers-0.21.2 \u001b[32m0/3\u001b[0m [torch]\n",
      "\u001b[2K  Attempting uninstall: transformers[90m━━━━━━━━━━━━━━━━━━━━━━━━━━\u001b[0m \u001b[32m1/3\u001b[0m [tokenizers]\n",
      "\u001b[2K    Found existing installation: transformers 4.53.2━━━━━━━━━━\u001b[0m \u001b[32m1/3\u001b[0m [tokenizers]\n",
      "\u001b[2K    Uninstalling transformers-4.53.2:m\u001b[91m╸\u001b[0m\u001b[90m━━━━━━━━━━━━━\u001b[0m \u001b[32m2/3\u001b[0m [transformers]\n",
      "\u001b[2K      Successfully uninstalled transformers-4.53.290m━━━━━━━━━━━━━\u001b[0m \u001b[32m2/3\u001b[0m [transformers]\n",
      "\u001b[2K   \u001b[90m━━━━━━━━━━━━━━━━━━━━━━━━━━━━━━━━━━━━━━━━\u001b[0m \u001b[32m3/3\u001b[0m [transformers][0m [transformers]\n",
      "\u001b[1A\u001b[2KSuccessfully installed tokenizers-0.19.1 torch-2.2.0 transformers-4.40.0\n"
     ]
    }
   ],
   "source": [
    "!pip install transformers==4.40.0 torch==2.2.0\n"
   ]
  },
  {
   "cell_type": "code",
   "execution_count": 15,
   "id": "2875138e-79a7-4404-926b-7ee5fb0fa733",
   "metadata": {},
   "outputs": [],
   "source": [
    "import pandas as pd\n",
    "from transformers import AutoTokenizer, AutoModelForSequenceClassification\n",
    "import torch\n",
    "from torch.nn.functional import softmax\n",
    "from tqdm import tqdm\n"
   ]
  },
  {
   "cell_type": "code",
   "execution_count": 3,
   "id": "c4936075-b267-4e06-a420-0e69f04a74ec",
   "metadata": {},
   "outputs": [
    {
     "name": "stdout",
     "output_type": "stream",
     "text": [
      "Collecting ipywidgets\n",
      "  Downloading ipywidgets-8.1.7-py3-none-any.whl.metadata (2.4 kB)\n",
      "Requirement already satisfied: comm>=0.1.3 in /Users/elifakdeniz/opt/anaconda3/envs/jupyterfix/lib/python3.11/site-packages (from ipywidgets) (0.2.1)\n",
      "Requirement already satisfied: ipython>=6.1.0 in /Users/elifakdeniz/opt/anaconda3/envs/jupyterfix/lib/python3.11/site-packages (from ipywidgets) (9.1.0)\n",
      "Requirement already satisfied: traitlets>=4.3.1 in /Users/elifakdeniz/opt/anaconda3/envs/jupyterfix/lib/python3.11/site-packages (from ipywidgets) (5.14.3)\n",
      "Collecting widgetsnbextension~=4.0.14 (from ipywidgets)\n",
      "  Downloading widgetsnbextension-4.0.14-py3-none-any.whl.metadata (1.6 kB)\n",
      "Collecting jupyterlab_widgets~=3.0.15 (from ipywidgets)\n",
      "  Downloading jupyterlab_widgets-3.0.15-py3-none-any.whl.metadata (20 kB)\n",
      "Requirement already satisfied: decorator in /Users/elifakdeniz/opt/anaconda3/envs/jupyterfix/lib/python3.11/site-packages (from ipython>=6.1.0->ipywidgets) (5.1.1)\n",
      "Requirement already satisfied: ipython-pygments-lexers in /Users/elifakdeniz/opt/anaconda3/envs/jupyterfix/lib/python3.11/site-packages (from ipython>=6.1.0->ipywidgets) (1.1.1)\n",
      "Requirement already satisfied: jedi>=0.16 in /Users/elifakdeniz/opt/anaconda3/envs/jupyterfix/lib/python3.11/site-packages (from ipython>=6.1.0->ipywidgets) (0.19.2)\n",
      "Requirement already satisfied: matplotlib-inline in /Users/elifakdeniz/opt/anaconda3/envs/jupyterfix/lib/python3.11/site-packages (from ipython>=6.1.0->ipywidgets) (0.1.6)\n",
      "Requirement already satisfied: pexpect>4.3 in /Users/elifakdeniz/opt/anaconda3/envs/jupyterfix/lib/python3.11/site-packages (from ipython>=6.1.0->ipywidgets) (4.9.0)\n",
      "Requirement already satisfied: prompt_toolkit<3.1.0,>=3.0.41 in /Users/elifakdeniz/opt/anaconda3/envs/jupyterfix/lib/python3.11/site-packages (from ipython>=6.1.0->ipywidgets) (3.0.43)\n",
      "Requirement already satisfied: pygments>=2.4.0 in /Users/elifakdeniz/opt/anaconda3/envs/jupyterfix/lib/python3.11/site-packages (from ipython>=6.1.0->ipywidgets) (2.19.1)\n",
      "Requirement already satisfied: stack_data in /Users/elifakdeniz/opt/anaconda3/envs/jupyterfix/lib/python3.11/site-packages (from ipython>=6.1.0->ipywidgets) (0.2.0)\n",
      "Requirement already satisfied: typing_extensions>=4.6 in /Users/elifakdeniz/opt/anaconda3/envs/jupyterfix/lib/python3.11/site-packages (from ipython>=6.1.0->ipywidgets) (4.12.2)\n",
      "Requirement already satisfied: wcwidth in /Users/elifakdeniz/opt/anaconda3/envs/jupyterfix/lib/python3.11/site-packages (from prompt_toolkit<3.1.0,>=3.0.41->ipython>=6.1.0->ipywidgets) (0.2.13)\n",
      "Requirement already satisfied: parso<0.9.0,>=0.8.4 in /Users/elifakdeniz/opt/anaconda3/envs/jupyterfix/lib/python3.11/site-packages (from jedi>=0.16->ipython>=6.1.0->ipywidgets) (0.8.4)\n",
      "Requirement already satisfied: ptyprocess>=0.5 in /Users/elifakdeniz/opt/anaconda3/envs/jupyterfix/lib/python3.11/site-packages (from pexpect>4.3->ipython>=6.1.0->ipywidgets) (0.7.0)\n",
      "Requirement already satisfied: executing in /Users/elifakdeniz/opt/anaconda3/envs/jupyterfix/lib/python3.11/site-packages (from stack_data->ipython>=6.1.0->ipywidgets) (0.8.3)\n",
      "Requirement already satisfied: asttokens in /Users/elifakdeniz/opt/anaconda3/envs/jupyterfix/lib/python3.11/site-packages (from stack_data->ipython>=6.1.0->ipywidgets) (3.0.0)\n",
      "Requirement already satisfied: pure-eval in /Users/elifakdeniz/opt/anaconda3/envs/jupyterfix/lib/python3.11/site-packages (from stack_data->ipython>=6.1.0->ipywidgets) (0.2.2)\n",
      "Downloading ipywidgets-8.1.7-py3-none-any.whl (139 kB)\n",
      "Downloading jupyterlab_widgets-3.0.15-py3-none-any.whl (216 kB)\n",
      "Downloading widgetsnbextension-4.0.14-py3-none-any.whl (2.2 MB)\n",
      "\u001b[2K   \u001b[90m━━━━━━━━━━━━━━━━━━━━━━━━━━━━━━━━━━━━━━━━\u001b[0m \u001b[32m2.2/2.2 MB\u001b[0m \u001b[31m3.2 MB/s\u001b[0m eta \u001b[36m0:00:00\u001b[0ma \u001b[36m0:00:01\u001b[0m\n",
      "\u001b[?25hInstalling collected packages: widgetsnbextension, jupyterlab_widgets, ipywidgets\n",
      "\u001b[2K   \u001b[90m━━━━━━━━━━━━━━━━━━━━━━━━━━━━━━━━━━━━━━━━\u001b[0m \u001b[32m3/3\u001b[0m [ipywidgets]3\u001b[0m [ipywidgets]\n",
      "\u001b[1A\u001b[2KSuccessfully installed ipywidgets-8.1.7 jupyterlab_widgets-3.0.15 widgetsnbextension-4.0.14\n"
     ]
    }
   ],
   "source": [
    "!pip install ipywidgets\n"
   ]
  },
  {
   "cell_type": "code",
   "execution_count": 4,
   "id": "e87e75e2-e56d-4602-b9b5-0ded6a5f22bf",
   "metadata": {},
   "outputs": [
    {
     "name": "stdout",
     "output_type": "stream",
     "text": [
      "Requirement already satisfied: transformers in /Users/elifakdeniz/opt/anaconda3/envs/jupyterfix/lib/python3.11/site-packages (4.40.0)\n",
      "Requirement already satisfied: torch in /Users/elifakdeniz/opt/anaconda3/envs/jupyterfix/lib/python3.11/site-packages (2.2.0)\n",
      "Requirement already satisfied: pandas in /Users/elifakdeniz/opt/anaconda3/envs/jupyterfix/lib/python3.11/site-packages (2.3.1)\n",
      "Requirement already satisfied: scikit-learn in /Users/elifakdeniz/opt/anaconda3/envs/jupyterfix/lib/python3.11/site-packages (1.7.0)\n",
      "Requirement already satisfied: filelock in /Users/elifakdeniz/opt/anaconda3/envs/jupyterfix/lib/python3.11/site-packages (from transformers) (3.18.0)\n",
      "Requirement already satisfied: huggingface-hub<1.0,>=0.19.3 in /Users/elifakdeniz/opt/anaconda3/envs/jupyterfix/lib/python3.11/site-packages (from transformers) (0.33.4)\n",
      "Requirement already satisfied: numpy>=1.17 in /Users/elifakdeniz/opt/anaconda3/envs/jupyterfix/lib/python3.11/site-packages (from transformers) (1.24.4)\n",
      "Requirement already satisfied: packaging>=20.0 in /Users/elifakdeniz/opt/anaconda3/envs/jupyterfix/lib/python3.11/site-packages (from transformers) (24.2)\n",
      "Requirement already satisfied: pyyaml>=5.1 in /Users/elifakdeniz/opt/anaconda3/envs/jupyterfix/lib/python3.11/site-packages (from transformers) (6.0.2)\n",
      "Requirement already satisfied: regex!=2019.12.17 in /Users/elifakdeniz/opt/anaconda3/envs/jupyterfix/lib/python3.11/site-packages (from transformers) (2024.11.6)\n",
      "Requirement already satisfied: requests in /Users/elifakdeniz/opt/anaconda3/envs/jupyterfix/lib/python3.11/site-packages (from transformers) (2.32.4)\n",
      "Requirement already satisfied: tokenizers<0.20,>=0.19 in /Users/elifakdeniz/opt/anaconda3/envs/jupyterfix/lib/python3.11/site-packages (from transformers) (0.19.1)\n",
      "Requirement already satisfied: safetensors>=0.4.1 in /Users/elifakdeniz/opt/anaconda3/envs/jupyterfix/lib/python3.11/site-packages (from transformers) (0.5.3)\n",
      "Requirement already satisfied: tqdm>=4.27 in /Users/elifakdeniz/opt/anaconda3/envs/jupyterfix/lib/python3.11/site-packages (from transformers) (4.67.1)\n",
      "Requirement already satisfied: fsspec>=2023.5.0 in /Users/elifakdeniz/opt/anaconda3/envs/jupyterfix/lib/python3.11/site-packages (from huggingface-hub<1.0,>=0.19.3->transformers) (2025.7.0)\n",
      "Requirement already satisfied: typing-extensions>=3.7.4.3 in /Users/elifakdeniz/opt/anaconda3/envs/jupyterfix/lib/python3.11/site-packages (from huggingface-hub<1.0,>=0.19.3->transformers) (4.12.2)\n",
      "Requirement already satisfied: hf-xet<2.0.0,>=1.1.2 in /Users/elifakdeniz/opt/anaconda3/envs/jupyterfix/lib/python3.11/site-packages (from huggingface-hub<1.0,>=0.19.3->transformers) (1.1.5)\n",
      "Requirement already satisfied: sympy in /Users/elifakdeniz/opt/anaconda3/envs/jupyterfix/lib/python3.11/site-packages (from torch) (1.14.0)\n",
      "Requirement already satisfied: networkx in /Users/elifakdeniz/opt/anaconda3/envs/jupyterfix/lib/python3.11/site-packages (from torch) (3.5)\n",
      "Requirement already satisfied: jinja2 in /Users/elifakdeniz/opt/anaconda3/envs/jupyterfix/lib/python3.11/site-packages (from torch) (3.1.6)\n",
      "Requirement already satisfied: python-dateutil>=2.8.2 in /Users/elifakdeniz/opt/anaconda3/envs/jupyterfix/lib/python3.11/site-packages (from pandas) (2.9.0.post0)\n",
      "Requirement already satisfied: pytz>=2020.1 in /Users/elifakdeniz/opt/anaconda3/envs/jupyterfix/lib/python3.11/site-packages (from pandas) (2025.2)\n",
      "Requirement already satisfied: tzdata>=2022.7 in /Users/elifakdeniz/opt/anaconda3/envs/jupyterfix/lib/python3.11/site-packages (from pandas) (2025.2)\n",
      "Requirement already satisfied: scipy>=1.8.0 in /Users/elifakdeniz/opt/anaconda3/envs/jupyterfix/lib/python3.11/site-packages (from scikit-learn) (1.16.0)\n",
      "Requirement already satisfied: joblib>=1.2.0 in /Users/elifakdeniz/opt/anaconda3/envs/jupyterfix/lib/python3.11/site-packages (from scikit-learn) (1.5.1)\n",
      "Requirement already satisfied: threadpoolctl>=3.1.0 in /Users/elifakdeniz/opt/anaconda3/envs/jupyterfix/lib/python3.11/site-packages (from scikit-learn) (3.6.0)\n",
      "Requirement already satisfied: six>=1.5 in /Users/elifakdeniz/opt/anaconda3/envs/jupyterfix/lib/python3.11/site-packages (from python-dateutil>=2.8.2->pandas) (1.17.0)\n",
      "Collecting numpy>=1.17 (from transformers)\n",
      "  Using cached numpy-2.3.1-cp311-cp311-macosx_10_9_x86_64.whl.metadata (62 kB)\n",
      "Requirement already satisfied: MarkupSafe>=2.0 in /Users/elifakdeniz/opt/anaconda3/envs/jupyterfix/lib/python3.11/site-packages (from jinja2->torch) (3.0.2)\n",
      "Requirement already satisfied: charset_normalizer<4,>=2 in /Users/elifakdeniz/opt/anaconda3/envs/jupyterfix/lib/python3.11/site-packages (from requests->transformers) (3.3.2)\n",
      "Requirement already satisfied: idna<4,>=2.5 in /Users/elifakdeniz/opt/anaconda3/envs/jupyterfix/lib/python3.11/site-packages (from requests->transformers) (3.7)\n",
      "Requirement already satisfied: urllib3<3,>=1.21.1 in /Users/elifakdeniz/opt/anaconda3/envs/jupyterfix/lib/python3.11/site-packages (from requests->transformers) (2.5.0)\n",
      "Requirement already satisfied: certifi>=2017.4.17 in /Users/elifakdeniz/opt/anaconda3/envs/jupyterfix/lib/python3.11/site-packages (from requests->transformers) (2025.6.15)\n",
      "Requirement already satisfied: mpmath<1.4,>=1.1.0 in /Users/elifakdeniz/opt/anaconda3/envs/jupyterfix/lib/python3.11/site-packages (from sympy->torch) (1.3.0)\n",
      "Using cached numpy-2.3.1-cp311-cp311-macosx_10_9_x86_64.whl (21.2 MB)\n",
      "Installing collected packages: numpy\n",
      "  Attempting uninstall: numpy\n",
      "    Found existing installation: numpy 1.24.4\n",
      "    Uninstalling numpy-1.24.4:\n",
      "      Successfully uninstalled numpy-1.24.4\n",
      "Successfully installed numpy-2.3.1\n"
     ]
    }
   ],
   "source": [
    "!pip install transformers torch pandas scikit-learn\n"
   ]
  },
  {
   "cell_type": "code",
   "execution_count": 5,
   "id": "202f722f-221a-4d79-9a2d-09384fd2fead",
   "metadata": {},
   "outputs": [],
   "source": [
    "import pandas as pd\n",
    "import torch\n",
    "from transformers import AutoTokenizer, AutoModelForSequenceClassification\n",
    "from torch.nn.functional import softmax\n",
    "from tqdm import tqdm\n"
   ]
  },
  {
   "cell_type": "code",
   "execution_count": null,
   "id": "df6ed9c2-c4e7-4b56-86e9-c16ec69ecd10",
   "metadata": {},
   "outputs": [],
   "source": []
  },
  {
   "cell_type": "code",
   "execution_count": 17,
   "id": "f3c67ef8-2ade-49a8-8879-da12faf5ebed",
   "metadata": {},
   "outputs": [],
   "source": [
    "# Load tokenizer and model\n",
    "model_name = \"j-hartmann/emotion-english-distilroberta-base\"\n",
    "tokenizer = AutoTokenizer.from_pretrained(model_name)\n",
    "model = AutoModelForSequenceClassification.from_pretrained(model_name)\n",
    "model.eval()\n",
    "\n",
    "# Get emotion labels\n",
    "emotion_labels = model.config.id2label.values()\n"
   ]
  },
  {
   "cell_type": "code",
   "execution_count": 18,
   "id": "60c411fa-c699-427a-934f-63068d0de5f3",
   "metadata": {},
   "outputs": [],
   "source": [
    "# Load full dataset\n",
    "df = pd.read_csv(\"/Users/elifakdeniz/Desktop/Thesis_New/Notebooks/Jupyter_notebook/Future Engineering/job_postings_with_features.csv\")  # replace with your actual path\n",
    "\n",
    "# Use only the first chunk (first 5000 rows)\n",
    "chunk_df = df[['description_clean']].iloc[:5000].copy()\n",
    "texts = chunk_df['description_clean'].fillna(\"\").tolist()\n"
   ]
  },
  {
   "cell_type": "code",
   "execution_count": 19,
   "id": "b233721c-c278-48e1-bd5e-5b4a2c658626",
   "metadata": {},
   "outputs": [
    {
     "name": "stderr",
     "output_type": "stream",
     "text": [
      "Processing chunk 1: 100%|███████████████████| 5000/5000 [55:18<00:00,  1.51it/s]\n"
     ]
    }
   ],
   "source": [
    "results = []\n",
    "\n",
    "for text in tqdm(texts, desc=\"Processing chunk 1\"):\n",
    "    inputs = tokenizer(text, return_tensors=\"pt\", truncation=True, padding=True, max_length=512)\n",
    "    with torch.no_grad():\n",
    "        outputs = model(**inputs)\n",
    "        probs = softmax(outputs.logits, dim=1)[0].tolist()\n",
    "        results.append(dict(zip(emotion_labels, probs)))\n"
   ]
  },
  {
   "cell_type": "code",
   "execution_count": 20,
   "id": "c0611218-3a7e-4ecd-840f-d5cde7c74931",
   "metadata": {},
   "outputs": [],
   "source": [
    "# Turn results into a DataFrame\n",
    "emotion_df = pd.DataFrame(results)\n",
    "\n",
    "# Concatenate with original chunk\n",
    "chunk_with_emotions = pd.concat([chunk_df.reset_index(drop=True), emotion_df], axis=1)"
   ]
  },
  {
   "cell_type": "code",
   "execution_count": 21,
   "id": "346f75b1-f271-48c0-8664-3534bf5ea491",
   "metadata": {},
   "outputs": [],
   "source": [
    "chunk_with_emotions.to_csv(\"emotion_chunk_1.csv\", index=False)\n"
   ]
  },
  {
   "cell_type": "code",
   "execution_count": 22,
   "id": "3cfae99c-4962-4bdb-a7fd-cfee63373c7f",
   "metadata": {},
   "outputs": [
    {
     "name": "stderr",
     "output_type": "stream",
     "text": [
      "Processing chunk 2: 100%|███████████████████| 5000/5000 [56:11<00:00,  1.48it/s]\n"
     ]
    }
   ],
   "source": [
    "# Load full dataset\n",
    "df = pd.read_csv(\"/Users/elifakdeniz/Desktop/Thesis_New/Notebooks/Jupyter_notebook/Future Engineering/job_postings_with_features.csv\")\n",
    "\n",
    "# Select chunk 2 (rows 5000 to 9999)\n",
    "chunk_df = df[['description_clean']].iloc[5000:10000].copy()\n",
    "\n",
    "# Prepare texts\n",
    "texts = chunk_df['description_clean'].fillna(\"\").tolist()\n",
    "\n",
    "# Store results\n",
    "results = []\n",
    "\n",
    "# Run sentiment analysis\n",
    "for text in tqdm(texts, desc=\"Processing chunk 2\"):\n",
    "    inputs = tokenizer(text, return_tensors=\"pt\", truncation=True, padding=True, max_length=512)\n",
    "    with torch.no_grad():\n",
    "        outputs = model(**inputs)\n",
    "        probs = softmax(outputs.logits, dim=1)[0].tolist()\n",
    "        results.append(dict(zip(emotion_labels, probs)))\n",
    "\n",
    "# Create emotion DataFrame\n",
    "emotion_df = pd.DataFrame(results)\n",
    "\n",
    "# Concatenate with original chunk\n",
    "chunk_with_emotions = pd.concat([chunk_df.reset_index(drop=True), emotion_df], axis=1)\n",
    "\n",
    "# Save output\n",
    "chunk_with_emotions.to_csv(\"emotion_chunk_2.csv\", index=False)\n"
   ]
  },
  {
   "cell_type": "code",
   "execution_count": 23,
   "id": "7b27e527-3302-4515-a9a6-2438ca74ff61",
   "metadata": {},
   "outputs": [
    {
     "name": "stderr",
     "output_type": "stream",
     "text": [
      "Processing chunk 3: 100%|█████████████████| 5000/5000 [1:05:51<00:00,  1.27it/s]\n"
     ]
    }
   ],
   "source": [
    "# Load full dataset\n",
    "df = pd.read_csv(\"/Users/elifakdeniz/Desktop/Thesis_New/Notebooks/Jupyter_notebook/Future Engineering/job_postings_with_features.csv\")\n",
    "\n",
    "# Select chunk 2 (rows 5000 to 9999)\n",
    "chunk_df = df[['description_clean']].iloc[10000:15000].copy()\n",
    "\n",
    "# Prepare texts\n",
    "texts = chunk_df['description_clean'].fillna(\"\").tolist()\n",
    "\n",
    "# Store results\n",
    "results = []\n",
    "\n",
    "# Run sentiment analysis\n",
    "for text in tqdm(texts, desc=\"Processing chunk 3\"):\n",
    "    inputs = tokenizer(text, return_tensors=\"pt\", truncation=True, padding=True, max_length=512)\n",
    "    with torch.no_grad():\n",
    "        outputs = model(**inputs)\n",
    "        probs = softmax(outputs.logits, dim=1)[0].tolist()\n",
    "        results.append(dict(zip(emotion_labels, probs)))\n",
    "\n",
    "# Create emotion DataFramene \n",
    "emotion_df = pd.DataFrame(results)\n",
    "\n",
    "# Concatenate with original chunk\n",
    "chunk_with_emotions = pd.concat([chunk_df.reset_index(drop=True), emotion_df], axis=1)\n",
    "\n",
    "# Save output\n",
    "chunk_with_emotions.to_csv(\"emotion_chunk_3.csv\", index=False)\n"
   ]
  },
  {
   "cell_type": "code",
   "execution_count": 24,
   "id": "ca874459-f4d3-4236-8567-625c4e183e5b",
   "metadata": {},
   "outputs": [
    {
     "name": "stderr",
     "output_type": "stream",
     "text": [
      "Processing chunk 4: 100%|███████████████| 10000/10000 [1:46:35<00:00,  1.56it/s]\n"
     ]
    }
   ],
   "source": [
    "# Select chunk 4 (rows 15000 to 25000)\n",
    "chunk_df = df[['description_clean']].iloc[15000:25000].copy()\n",
    "\n",
    "# Prepare texts\n",
    "texts = chunk_df['description_clean'].fillna(\"\").tolist()\n",
    "\n",
    "# Store results\n",
    "results = []\n",
    "\n",
    "# Run sentiment analysis\n",
    "for text in tqdm(texts, desc=\"Processing chunk 4\"):\n",
    "    inputs = tokenizer(text, return_tensors=\"pt\", truncation=True, padding=True, max_length=512)\n",
    "    with torch.no_grad():\n",
    "        outputs = model(**inputs)\n",
    "        probs = softmax(outputs.logits, dim=1)[0].tolist()\n",
    "        results.append(dict(zip(emotion_labels, probs)))\n",
    "\n",
    "# Create emotion DataFrame\n",
    "emotion_df = pd.DataFrame(results)\n",
    "\n",
    "# Concatenate with original chunk\n",
    "chunk_with_emotions = pd.concat([chunk_df.reset_index(drop=True), emotion_df], axis=1)\n",
    "\n",
    "# Save output\n",
    "chunk_with_emotions.to_csv(\"emotion_chunk_4.csv\", index=False)\n"
   ]
  },
  {
   "cell_type": "code",
   "execution_count": 25,
   "id": "1dc961e7-cdc7-4459-b2fd-9b7f341d8f34",
   "metadata": {},
   "outputs": [
    {
     "name": "stderr",
     "output_type": "stream",
     "text": [
      "Processing chunk 5: 100%|███████████████| 15000/15000 [2:48:58<00:00,  1.48it/s]\n"
     ]
    }
   ],
   "source": [
    "# Select chunk 4 (rows 15000 to 25000)\n",
    "chunk_df = df[['description_clean']].iloc[25000:40000].copy()\n",
    "\n",
    "# Prepare texts\n",
    "texts = chunk_df['description_clean'].fillna(\"\").tolist()\n",
    "\n",
    "# Store results\n",
    "results = []\n",
    "\n",
    "# Run sentiment analysis\n",
    "for text in tqdm(texts, desc=\"Processing chunk 5\"):\n",
    "    inputs = tokenizer(text, return_tensors=\"pt\", truncation=True, padding=True, max_length=512)\n",
    "    with torch.no_grad():\n",
    "        outputs = model(**inputs)\n",
    "        probs = softmax(outputs.logits, dim=1)[0].tolist()\n",
    "        results.append(dict(zip(emotion_labels, probs)))\n",
    "\n",
    "# Create emotion DataFrame\n",
    "emotion_df = pd.DataFrame(results)\n",
    "\n",
    "# Concatenate with original chunk\n",
    "chunk_with_emotions = pd.concat([chunk_df.reset_index(drop=True), emotion_df], axis=1)\n",
    "\n",
    "# Save output\n",
    "chunk_with_emotions.to_csv(\"emotion_chunk_5.csv\", index=False)\n"
   ]
  },
  {
   "cell_type": "code",
   "execution_count": 26,
   "id": "9a21872d-72f7-4f6e-af85-84a786865028",
   "metadata": {},
   "outputs": [
    {
     "name": "stderr",
     "output_type": "stream",
     "text": [
      "Processing chunk 6: 100%|███████████████| 15000/15000 [3:11:07<00:00,  1.31it/s]\n"
     ]
    }
   ],
   "source": [
    "chunk_df = df[['description_clean']].iloc[40000:55000].copy()\n",
    "\n",
    "# Prepare texts\n",
    "texts = chunk_df['description_clean'].fillna(\"\").tolist()\n",
    "\n",
    "# Store results\n",
    "results = []\n",
    "\n",
    "# Run sentiment analysis\n",
    "for text in tqdm(texts, desc=\"Processing chunk 6\"):\n",
    "    inputs = tokenizer(text, return_tensors=\"pt\", truncation=True, padding=True, max_length=512)\n",
    "    with torch.no_grad():\n",
    "        outputs = model(**inputs)\n",
    "        probs = softmax(outputs.logits, dim=1)[0].tolist()\n",
    "        results.append(dict(zip(emotion_labels, probs)))\n",
    "\n",
    "# Create emotion DataFrame\n",
    "emotion_df = pd.DataFrame(results)\n",
    "\n",
    "# Concatenate with original chunk\n",
    "chunk_with_emotions = pd.concat([chunk_df.reset_index(drop=True), emotion_df], axis=1)\n",
    "\n",
    "# Save output\n",
    "chunk_with_emotions.to_csv(\"emotion_chunk_6.csv\", index=False)\n"
   ]
  },
  {
   "cell_type": "code",
   "execution_count": 27,
   "id": "8eb9ab04-27e1-4fc3-9dfd-fc5c2ba50a12",
   "metadata": {},
   "outputs": [
    {
     "name": "stderr",
     "output_type": "stream",
     "text": [
      "Processing chunk 7: 100%|███████████████| 15000/15000 [3:26:20<00:00,  1.21it/s]\n"
     ]
    }
   ],
   "source": [
    "chunk_df = df[['description_clean']].iloc[55000:70000].copy()\n",
    "\n",
    "# Prepare texts\n",
    "texts = chunk_df['description_clean'].fillna(\"\").tolist()\n",
    "\n",
    "# Store results\n",
    "results = []\n",
    "\n",
    "# Run sentiment analysis\n",
    "for text in tqdm(texts, desc=\"Processing chunk 7\"):\n",
    "    inputs = tokenizer(text, return_tensors=\"pt\", truncation=True, padding=True, max_length=512)\n",
    "    with torch.no_grad():\n",
    "        outputs = model(**inputs)\n",
    "        probs = softmax(outputs.logits, dim=1)[0].tolist()\n",
    "        results.append(dict(zip(emotion_labels, probs)))\n",
    "\n",
    "# Create emotion DataFrame\n",
    "emotion_df = pd.DataFrame(results)\n",
    "\n",
    "# Concatenate with original chunk\n",
    "chunk_with_emotions = pd.concat([chunk_df.reset_index(drop=True), emotion_df], axis=1)\n",
    "\n",
    "# Save output\n",
    "chunk_with_emotions.to_csv(\"emotion_chunk_7.csv\", index=False)\n"
   ]
  },
  {
   "cell_type": "code",
   "execution_count": 28,
   "id": "bb15871b-0e67-4f69-9b3c-5bebd4388b4f",
   "metadata": {},
   "outputs": [
    {
     "name": "stdout",
     "output_type": "stream",
     "text": [
      "Combined sentiment data saved as 'all_emotion_results.csv'\n"
     ]
    }
   ],
   "source": [
    "import pandas as pd\n",
    "import glob\n",
    "import os\n",
    "\n",
    "folder_path = \"/Users/elifakdeniz/Desktop/Thesis_New/Notebooks/Jupyter_notebook/Future Engineering/sentiment\"\n",
    "\n",
    "file_list = sorted(glob.glob(os.path.join(folder_path, \"emotion_chunk_*.csv\")))\n",
    "\n",
    "sentiment_df = pd.concat([pd.read_csv(file) for file in file_list], ignore_index=True)\n",
    "\n",
    "# Save the full sentiment dataset\n",
    "sentiment_df.to_csv(\"/Users/elifakdeniz/Desktop/Thesis_New/Notebooks/Jupyter_notebook/Future Engineering/all_emotion_results.csv\", index=False)\n",
    "\n",
    "print(\"Combined sentiment data saved as 'all_emotion_results.csv'\")\n"
   ]
  },
  {
   "cell_type": "code",
   "execution_count": 29,
   "id": "c74a9b11-d4d4-4a74-ab76-736b61ce500f",
   "metadata": {},
   "outputs": [
    {
     "name": "stdout",
     "output_type": "stream",
     "text": [
      "Final sentiment CSV saved as: all_emotion_results.csv\n"
     ]
    }
   ],
   "source": [
    "# Save the full sentiment dataset\n",
    "sentiment_df.to_csv(\"/Users/elifakdeniz/Desktop/Thesis_New/Notebooks/Jupyter_notebook/Future Engineering/all_emotion_results.csv\", index=False)\n",
    "\n",
    "print(\"Final sentiment CSV saved as: all_emotion_results.csv\")\n"
   ]
  },
  {
   "cell_type": "code",
   "execution_count": 30,
   "id": "79f69cab-d560-45ae-ba52-ce795bddc58e",
   "metadata": {},
   "outputs": [],
   "source": [
    "# Load main feature-engineered dataset\n",
    "main_df = pd.read_csv(\"/Users/elifakdeniz/Desktop/Thesis_New/Notebooks/Jupyter_notebook/Future Engineering/job_postings_with_features.csv\")\n"
   ]
  },
  {
   "cell_type": "code",
   "execution_count": 32,
   "id": "533be364-3a7a-4c60-aaab-c5964eb2bdd7",
   "metadata": {},
   "outputs": [],
   "source": [
    "# Load all sentiment results\n",
    "sentiment_df = pd.read_csv(\"/Users/elifakdeniz/Desktop/Thesis_New/Notebooks/Jupyter_notebook/Future Engineering/sentiment/all_emotion_results.csv\")\n"
   ]
  },
  {
   "cell_type": "code",
   "execution_count": 33,
   "id": "b7ef7ac2-a1dd-46bc-bc8c-7b97a920fbe4",
   "metadata": {},
   "outputs": [
    {
     "name": "stdout",
     "output_type": "stream",
     "text": [
      "Main dataset: 71915 rows\n",
      "Sentiment dataset: 70000 rows\n"
     ]
    }
   ],
   "source": [
    "print(f\"Main dataset: {len(main_df)} rows\")\n",
    "print(f\"Sentiment dataset: {len(sentiment_df)} rows\")\n"
   ]
  },
  {
   "cell_type": "code",
   "execution_count": 34,
   "id": "f8d1875c-e6ac-4918-b509-c4b6bba091a4",
   "metadata": {},
   "outputs": [
    {
     "name": "stdout",
     "output_type": "stream",
     "text": [
      " Merged dataset (70,000 rows) saved successfully.\n"
     ]
    }
   ],
   "source": [
    "main_df_trimmed = main_df.iloc[:70000].copy()\n",
    "merged_df = pd.concat([main_df_trimmed.reset_index(drop=True),\n",
    "                       sentiment_df.drop(columns=['description_clean']).reset_index(drop=True)], axis=1)\n",
    "merged_df.to_csv(\"/Users/elifakdeniz/Desktop/Thesis_New/Notebooks/Jupyter_notebook/Future Engineering/final_dataset_with_sentiment.csv\", index=False)\n",
    "print(\" Merged dataset (70,000 rows) saved successfully.\")\n"
   ]
  },
  {
   "cell_type": "code",
   "execution_count": 35,
   "id": "640d79e8-5945-4de5-b8d1-734f97cf571c",
   "metadata": {},
   "outputs": [],
   "source": [
    "# Group by industry and take average of emotion scores\n",
    "industry_emotions = merged_df.groupby('industry')[emotion_df.columns.difference(['description_clean'])].mean()\n",
    "\n",
    "# Optional: sort by a specific emotion\n",
    "industry_emotions_sorted = industry_emotions.sort_values(by='joy', ascending=False)\n"
   ]
  },
  {
   "cell_type": "code",
   "execution_count": 37,
   "id": "1f128a50-b94f-4a00-8974-53605485b9ed",
   "metadata": {},
   "outputs": [
    {
     "name": "stderr",
     "output_type": "stream",
     "text": [
      "/Users/elifakdeniz/opt/anaconda3/envs/jupyterfix/lib/python3.11/site-packages/numpy/_typing/_array_like.py:84: FutureWarning: In the future `np.bool` will be defined as the corresponding NumPy scalar.\n",
      "  _ArrayLikeBool_co: TypeAlias = _DualArrayLike[dtype[np.bool], bool]\n",
      "/Users/elifakdeniz/opt/anaconda3/envs/jupyterfix/lib/python3.11/site-packages/numpy/_typing/_array_like.py:84: FutureWarning: In the future `np.bool` will be defined as the corresponding NumPy scalar.\n",
      "  _ArrayLikeBool_co: TypeAlias = _DualArrayLike[dtype[np.bool], bool]\n"
     ]
    },
    {
     "ename": "AttributeError",
     "evalue": "module 'numpy' has no attribute 'bool'.\n`np.bool` was a deprecated alias for the builtin `bool`. To avoid this error in existing code, use `bool` by itself. Doing this will not modify any behavior and is safe. If you specifically wanted the numpy scalar type, use `np.bool_` here.\nThe aliases was originally deprecated in NumPy 1.20; for more details and guidance see the original release note at:\n    https://numpy.org/devdocs/release/1.20.0-notes.html#deprecations",
     "output_type": "error",
     "traceback": [
      "\u001b[31m---------------------------------------------------------------------------\u001b[39m",
      "\u001b[31mAttributeError\u001b[39m                            Traceback (most recent call last)",
      "\u001b[36mCell\u001b[39m\u001b[36m \u001b[39m\u001b[32mIn[37]\u001b[39m\u001b[32m, line 2\u001b[39m\n\u001b[32m      1\u001b[39m \u001b[38;5;28;01mimport\u001b[39;00m\u001b[38;5;250m \u001b[39m\u001b[34;01mmatplotlib\u001b[39;00m\u001b[34;01m.\u001b[39;00m\u001b[34;01mpyplot\u001b[39;00m\u001b[38;5;250m \u001b[39m\u001b[38;5;28;01mas\u001b[39;00m\u001b[38;5;250m \u001b[39m\u001b[34;01mplt\u001b[39;00m\n\u001b[32m----> \u001b[39m\u001b[32m2\u001b[39m \u001b[38;5;28;01mimport\u001b[39;00m\u001b[38;5;250m \u001b[39m\u001b[34;01mseaborn\u001b[39;00m\u001b[38;5;250m \u001b[39m\u001b[38;5;28;01mas\u001b[39;00m\u001b[38;5;250m \u001b[39m\u001b[34;01msns\u001b[39;00m\n\u001b[32m      4\u001b[39m \u001b[38;5;66;03m# Plot top 10 industries with highest average 'joy'\u001b[39;00m\n\u001b[32m      5\u001b[39m plt.figure(figsize=(\u001b[32m10\u001b[39m, \u001b[32m6\u001b[39m))\n",
      "\u001b[36mFile \u001b[39m\u001b[32m~/opt/anaconda3/envs/jupyterfix/lib/python3.11/site-packages/seaborn/__init__.py:5\u001b[39m\n\u001b[32m      3\u001b[39m \u001b[38;5;28;01mfrom\u001b[39;00m\u001b[38;5;250m \u001b[39m\u001b[34;01m.\u001b[39;00m\u001b[34;01mutils\u001b[39;00m\u001b[38;5;250m \u001b[39m\u001b[38;5;28;01mimport\u001b[39;00m *  \u001b[38;5;66;03m# noqa: F401,F403\u001b[39;00m\n\u001b[32m      4\u001b[39m \u001b[38;5;28;01mfrom\u001b[39;00m\u001b[38;5;250m \u001b[39m\u001b[34;01m.\u001b[39;00m\u001b[34;01mpalettes\u001b[39;00m\u001b[38;5;250m \u001b[39m\u001b[38;5;28;01mimport\u001b[39;00m *  \u001b[38;5;66;03m# noqa: F401,F403\u001b[39;00m\n\u001b[32m----> \u001b[39m\u001b[32m5\u001b[39m \u001b[38;5;28;01mfrom\u001b[39;00m\u001b[38;5;250m \u001b[39m\u001b[34;01m.\u001b[39;00m\u001b[34;01mrelational\u001b[39;00m\u001b[38;5;250m \u001b[39m\u001b[38;5;28;01mimport\u001b[39;00m *  \u001b[38;5;66;03m# noqa: F401,F403\u001b[39;00m\n\u001b[32m      6\u001b[39m \u001b[38;5;28;01mfrom\u001b[39;00m\u001b[38;5;250m \u001b[39m\u001b[34;01m.\u001b[39;00m\u001b[34;01mregression\u001b[39;00m\u001b[38;5;250m \u001b[39m\u001b[38;5;28;01mimport\u001b[39;00m *  \u001b[38;5;66;03m# noqa: F401,F403\u001b[39;00m\n\u001b[32m      7\u001b[39m \u001b[38;5;28;01mfrom\u001b[39;00m\u001b[38;5;250m \u001b[39m\u001b[34;01m.\u001b[39;00m\u001b[34;01mcategorical\u001b[39;00m\u001b[38;5;250m \u001b[39m\u001b[38;5;28;01mimport\u001b[39;00m *  \u001b[38;5;66;03m# noqa: F401,F403\u001b[39;00m\n",
      "\u001b[36mFile \u001b[39m\u001b[32m~/opt/anaconda3/envs/jupyterfix/lib/python3.11/site-packages/seaborn/relational.py:21\u001b[39m\n\u001b[32m     13\u001b[39m \u001b[38;5;28;01mfrom\u001b[39;00m\u001b[38;5;250m \u001b[39m\u001b[34;01m.\u001b[39;00m\u001b[34;01mutils\u001b[39;00m\u001b[38;5;250m \u001b[39m\u001b[38;5;28;01mimport\u001b[39;00m (\n\u001b[32m     14\u001b[39m     adjust_legend_subtitles,\n\u001b[32m     15\u001b[39m     _default_color,\n\u001b[32m   (...)\u001b[39m\u001b[32m     18\u001b[39m     _scatter_legend_artist,\n\u001b[32m     19\u001b[39m )\n\u001b[32m     20\u001b[39m \u001b[38;5;28;01mfrom\u001b[39;00m\u001b[38;5;250m \u001b[39m\u001b[34;01m.\u001b[39;00m\u001b[34;01m_compat\u001b[39;00m\u001b[38;5;250m \u001b[39m\u001b[38;5;28;01mimport\u001b[39;00m groupby_apply_include_groups\n\u001b[32m---> \u001b[39m\u001b[32m21\u001b[39m \u001b[38;5;28;01mfrom\u001b[39;00m\u001b[38;5;250m \u001b[39m\u001b[34;01m.\u001b[39;00m\u001b[34;01m_statistics\u001b[39;00m\u001b[38;5;250m \u001b[39m\u001b[38;5;28;01mimport\u001b[39;00m EstimateAggregator, WeightedAggregator\n\u001b[32m     22\u001b[39m \u001b[38;5;28;01mfrom\u001b[39;00m\u001b[38;5;250m \u001b[39m\u001b[34;01m.\u001b[39;00m\u001b[34;01maxisgrid\u001b[39;00m\u001b[38;5;250m \u001b[39m\u001b[38;5;28;01mimport\u001b[39;00m FacetGrid, _facet_docs\n\u001b[32m     23\u001b[39m \u001b[38;5;28;01mfrom\u001b[39;00m\u001b[38;5;250m \u001b[39m\u001b[34;01m.\u001b[39;00m\u001b[34;01m_docstrings\u001b[39;00m\u001b[38;5;250m \u001b[39m\u001b[38;5;28;01mimport\u001b[39;00m DocstringComponents, _core_docs\n",
      "\u001b[36mFile \u001b[39m\u001b[32m~/opt/anaconda3/envs/jupyterfix/lib/python3.11/site-packages/seaborn/_statistics.py:32\u001b[39m\n\u001b[32m     30\u001b[39m \u001b[38;5;28;01mimport\u001b[39;00m\u001b[38;5;250m \u001b[39m\u001b[34;01mpandas\u001b[39;00m\u001b[38;5;250m \u001b[39m\u001b[38;5;28;01mas\u001b[39;00m\u001b[38;5;250m \u001b[39m\u001b[34;01mpd\u001b[39;00m\n\u001b[32m     31\u001b[39m \u001b[38;5;28;01mtry\u001b[39;00m:\n\u001b[32m---> \u001b[39m\u001b[32m32\u001b[39m     \u001b[38;5;28;01mfrom\u001b[39;00m\u001b[38;5;250m \u001b[39m\u001b[34;01mscipy\u001b[39;00m\u001b[34;01m.\u001b[39;00m\u001b[34;01mstats\u001b[39;00m\u001b[38;5;250m \u001b[39m\u001b[38;5;28;01mimport\u001b[39;00m gaussian_kde\n\u001b[32m     33\u001b[39m     _no_scipy = \u001b[38;5;28;01mFalse\u001b[39;00m\n\u001b[32m     34\u001b[39m \u001b[38;5;28;01mexcept\u001b[39;00m \u001b[38;5;167;01mImportError\u001b[39;00m:\n",
      "\u001b[36mFile \u001b[39m\u001b[32m~/opt/anaconda3/envs/jupyterfix/lib/python3.11/site-packages/scipy/stats/__init__.py:626\u001b[39m\n\u001b[32m      1\u001b[39m \u001b[33;03m\"\"\"\u001b[39;00m\n\u001b[32m      2\u001b[39m \u001b[33;03m.. _statsrefmanual:\u001b[39;00m\n\u001b[32m      3\u001b[39m \n\u001b[32m   (...)\u001b[39m\u001b[32m    621\u001b[39m \n\u001b[32m    622\u001b[39m \u001b[33;03m\"\"\"\u001b[39;00m  \u001b[38;5;66;03m# noqa: E501\u001b[39;00m\n\u001b[32m    624\u001b[39m \u001b[38;5;28;01mfrom\u001b[39;00m\u001b[38;5;250m \u001b[39m\u001b[34;01m.\u001b[39;00m\u001b[34;01m_warnings_errors\u001b[39;00m\u001b[38;5;250m \u001b[39m\u001b[38;5;28;01mimport\u001b[39;00m (ConstantInputWarning, NearConstantInputWarning,\n\u001b[32m    625\u001b[39m                                DegenerateDataWarning, FitError)\n\u001b[32m--> \u001b[39m\u001b[32m626\u001b[39m \u001b[38;5;28;01mfrom\u001b[39;00m\u001b[38;5;250m \u001b[39m\u001b[34;01m.\u001b[39;00m\u001b[34;01m_stats_py\u001b[39;00m\u001b[38;5;250m \u001b[39m\u001b[38;5;28;01mimport\u001b[39;00m *\n\u001b[32m    627\u001b[39m \u001b[38;5;28;01mfrom\u001b[39;00m\u001b[38;5;250m \u001b[39m\u001b[34;01m.\u001b[39;00m\u001b[34;01m_variation\u001b[39;00m\u001b[38;5;250m \u001b[39m\u001b[38;5;28;01mimport\u001b[39;00m variation\n\u001b[32m    628\u001b[39m \u001b[38;5;28;01mfrom\u001b[39;00m\u001b[38;5;250m \u001b[39m\u001b[34;01m.\u001b[39;00m\u001b[34;01mdistributions\u001b[39;00m\u001b[38;5;250m \u001b[39m\u001b[38;5;28;01mimport\u001b[39;00m *\n",
      "\u001b[36mFile \u001b[39m\u001b[32m~/opt/anaconda3/envs/jupyterfix/lib/python3.11/site-packages/scipy/stats/_stats_py.py:39\u001b[39m\n\u001b[32m     36\u001b[39m \u001b[38;5;28;01mimport\u001b[39;00m\u001b[38;5;250m \u001b[39m\u001b[34;01mnumpy\u001b[39;00m\u001b[38;5;250m \u001b[39m\u001b[38;5;28;01mas\u001b[39;00m\u001b[38;5;250m \u001b[39m\u001b[34;01mnp\u001b[39;00m\n\u001b[32m     37\u001b[39m \u001b[38;5;28;01mfrom\u001b[39;00m\u001b[38;5;250m \u001b[39m\u001b[34;01mnumpy\u001b[39;00m\u001b[38;5;250m \u001b[39m\u001b[38;5;28;01mimport\u001b[39;00m array, asarray, ma\n\u001b[32m---> \u001b[39m\u001b[32m39\u001b[39m \u001b[38;5;28;01mfrom\u001b[39;00m\u001b[38;5;250m \u001b[39m\u001b[34;01mscipy\u001b[39;00m\u001b[38;5;250m \u001b[39m\u001b[38;5;28;01mimport\u001b[39;00m sparse\n\u001b[32m     40\u001b[39m \u001b[38;5;28;01mfrom\u001b[39;00m\u001b[38;5;250m \u001b[39m\u001b[34;01mscipy\u001b[39;00m\u001b[34;01m.\u001b[39;00m\u001b[34;01mspatial\u001b[39;00m\u001b[38;5;250m \u001b[39m\u001b[38;5;28;01mimport\u001b[39;00m distance_matrix\n\u001b[32m     42\u001b[39m \u001b[38;5;28;01mfrom\u001b[39;00m\u001b[38;5;250m \u001b[39m\u001b[34;01mscipy\u001b[39;00m\u001b[34;01m.\u001b[39;00m\u001b[34;01moptimize\u001b[39;00m\u001b[38;5;250m \u001b[39m\u001b[38;5;28;01mimport\u001b[39;00m milp, LinearConstraint\n",
      "\u001b[36mFile \u001b[39m\u001b[32m~/opt/anaconda3/envs/jupyterfix/lib/python3.11/site-packages/scipy/sparse/__init__.py:304\u001b[39m\n\u001b[32m    301\u001b[39m \u001b[38;5;28;01mimport\u001b[39;00m\u001b[38;5;250m \u001b[39m\u001b[34;01mwarnings\u001b[39;00m\u001b[38;5;250m \u001b[39m\u001b[38;5;28;01mas\u001b[39;00m\u001b[38;5;250m \u001b[39m\u001b[34;01m_warnings\u001b[39;00m\n\u001b[32m    302\u001b[39m \u001b[38;5;28;01mimport\u001b[39;00m\u001b[38;5;250m \u001b[39m\u001b[34;01mimportlib\u001b[39;00m\u001b[38;5;250m \u001b[39m\u001b[38;5;28;01mas\u001b[39;00m\u001b[38;5;250m \u001b[39m\u001b[34;01m_importlib\u001b[39;00m\n\u001b[32m--> \u001b[39m\u001b[32m304\u001b[39m \u001b[38;5;28;01mfrom\u001b[39;00m\u001b[38;5;250m \u001b[39m\u001b[34;01m.\u001b[39;00m\u001b[34;01m_base\u001b[39;00m\u001b[38;5;250m \u001b[39m\u001b[38;5;28;01mimport\u001b[39;00m *\n\u001b[32m    305\u001b[39m \u001b[38;5;28;01mfrom\u001b[39;00m\u001b[38;5;250m \u001b[39m\u001b[34;01m.\u001b[39;00m\u001b[34;01m_csr\u001b[39;00m\u001b[38;5;250m \u001b[39m\u001b[38;5;28;01mimport\u001b[39;00m *\n\u001b[32m    306\u001b[39m \u001b[38;5;28;01mfrom\u001b[39;00m\u001b[38;5;250m \u001b[39m\u001b[34;01m.\u001b[39;00m\u001b[34;01m_csc\u001b[39;00m\u001b[38;5;250m \u001b[39m\u001b[38;5;28;01mimport\u001b[39;00m *\n",
      "\u001b[36mFile \u001b[39m\u001b[32m~/opt/anaconda3/envs/jupyterfix/lib/python3.11/site-packages/scipy/sparse/_base.py:8\u001b[39m\n\u001b[32m      5\u001b[39m \u001b[38;5;28;01mimport\u001b[39;00m\u001b[38;5;250m \u001b[39m\u001b[34;01mnumpy\u001b[39;00m\u001b[38;5;250m \u001b[39m\u001b[38;5;28;01mas\u001b[39;00m\u001b[38;5;250m \u001b[39m\u001b[34;01mnp\u001b[39;00m\n\u001b[32m      6\u001b[39m \u001b[38;5;28;01mimport\u001b[39;00m\u001b[38;5;250m \u001b[39m\u001b[34;01moperator\u001b[39;00m\n\u001b[32m----> \u001b[39m\u001b[32m8\u001b[39m \u001b[38;5;28;01mfrom\u001b[39;00m\u001b[38;5;250m \u001b[39m\u001b[34;01m.\u001b[39;00m\u001b[34;01m_sputils\u001b[39;00m\u001b[38;5;250m \u001b[39m\u001b[38;5;28;01mimport\u001b[39;00m (asmatrix, check_reshape_kwargs, check_shape,\n\u001b[32m      9\u001b[39m                        get_sum_dtype, isdense, isscalarlike, _todata,\n\u001b[32m     10\u001b[39m                        matrix, validateaxis, getdtype, is_pydata_spmatrix)\n\u001b[32m     11\u001b[39m \u001b[38;5;28;01mfrom\u001b[39;00m\u001b[38;5;250m \u001b[39m\u001b[34;01mscipy\u001b[39;00m\u001b[34;01m.\u001b[39;00m\u001b[34;01m_lib\u001b[39;00m\u001b[34;01m.\u001b[39;00m\u001b[34;01m_sparse\u001b[39;00m\u001b[38;5;250m \u001b[39m\u001b[38;5;28;01mimport\u001b[39;00m SparseABC, issparse\n\u001b[32m     13\u001b[39m \u001b[38;5;28;01mfrom\u001b[39;00m\u001b[38;5;250m \u001b[39m\u001b[34;01m.\u001b[39;00m\u001b[34;01m_matrix\u001b[39;00m\u001b[38;5;250m \u001b[39m\u001b[38;5;28;01mimport\u001b[39;00m spmatrix\n",
      "\u001b[36mFile \u001b[39m\u001b[32m~/opt/anaconda3/envs/jupyterfix/lib/python3.11/site-packages/scipy/sparse/_sputils.py:10\u001b[39m\n\u001b[32m      8\u001b[39m \u001b[38;5;28;01mfrom\u001b[39;00m\u001b[38;5;250m \u001b[39m\u001b[34;01mmath\u001b[39;00m\u001b[38;5;250m \u001b[39m\u001b[38;5;28;01mimport\u001b[39;00m prod\n\u001b[32m      9\u001b[39m \u001b[38;5;28;01mimport\u001b[39;00m\u001b[38;5;250m \u001b[39m\u001b[34;01mscipy\u001b[39;00m\u001b[34;01m.\u001b[39;00m\u001b[34;01msparse\u001b[39;00m\u001b[38;5;250m \u001b[39m\u001b[38;5;28;01mas\u001b[39;00m\u001b[38;5;250m \u001b[39m\u001b[34;01msp\u001b[39;00m\n\u001b[32m---> \u001b[39m\u001b[32m10\u001b[39m \u001b[38;5;28;01mfrom\u001b[39;00m\u001b[38;5;250m \u001b[39m\u001b[34;01mscipy\u001b[39;00m\u001b[34;01m.\u001b[39;00m\u001b[34;01m_lib\u001b[39;00m\u001b[34;01m.\u001b[39;00m\u001b[34;01m_util\u001b[39;00m\u001b[38;5;250m \u001b[39m\u001b[38;5;28;01mimport\u001b[39;00m np_long, np_ulong\n\u001b[32m     13\u001b[39m __all__ = [\u001b[33m'\u001b[39m\u001b[33mupcast\u001b[39m\u001b[33m'\u001b[39m, \u001b[33m'\u001b[39m\u001b[33mgetdtype\u001b[39m\u001b[33m'\u001b[39m, \u001b[33m'\u001b[39m\u001b[33mgetdata\u001b[39m\u001b[33m'\u001b[39m, \u001b[33m'\u001b[39m\u001b[33misscalarlike\u001b[39m\u001b[33m'\u001b[39m, \u001b[33m'\u001b[39m\u001b[33misintlike\u001b[39m\u001b[33m'\u001b[39m,\n\u001b[32m     14\u001b[39m            \u001b[33m'\u001b[39m\u001b[33misshape\u001b[39m\u001b[33m'\u001b[39m, \u001b[33m'\u001b[39m\u001b[33missequence\u001b[39m\u001b[33m'\u001b[39m, \u001b[33m'\u001b[39m\u001b[33misdense\u001b[39m\u001b[33m'\u001b[39m, \u001b[33m'\u001b[39m\u001b[33mismatrix\u001b[39m\u001b[33m'\u001b[39m, \u001b[33m'\u001b[39m\u001b[33mget_sum_dtype\u001b[39m\u001b[33m'\u001b[39m,\n\u001b[32m     15\u001b[39m            \u001b[33m'\u001b[39m\u001b[33mbroadcast_shapes\u001b[39m\u001b[33m'\u001b[39m]\n\u001b[32m     17\u001b[39m supported_dtypes = [np.bool_, np.byte, np.ubyte, np.short, np.ushort, np.intc,\n\u001b[32m     18\u001b[39m                     np.uintc, np_long, np_ulong, np.longlong, np.ulonglong,\n\u001b[32m     19\u001b[39m                     np.float32, np.float64, np.longdouble,\n\u001b[32m     20\u001b[39m                     np.complex64, np.complex128, np.clongdouble]\n",
      "\u001b[36mFile \u001b[39m\u001b[32m~/opt/anaconda3/envs/jupyterfix/lib/python3.11/site-packages/scipy/_lib/_util.py:14\u001b[39m\n\u001b[32m     11\u001b[39m \u001b[38;5;28;01mfrom\u001b[39;00m\u001b[38;5;250m \u001b[39m\u001b[34;01mtyping\u001b[39;00m\u001b[38;5;250m \u001b[39m\u001b[38;5;28;01mimport\u001b[39;00m Literal, TypeAlias, TypeVar\n\u001b[32m     13\u001b[39m \u001b[38;5;28;01mimport\u001b[39;00m\u001b[38;5;250m \u001b[39m\u001b[34;01mnumpy\u001b[39;00m\u001b[38;5;250m \u001b[39m\u001b[38;5;28;01mas\u001b[39;00m\u001b[38;5;250m \u001b[39m\u001b[34;01mnp\u001b[39;00m\n\u001b[32m---> \u001b[39m\u001b[32m14\u001b[39m \u001b[38;5;28;01mfrom\u001b[39;00m\u001b[38;5;250m \u001b[39m\u001b[34;01mscipy\u001b[39;00m\u001b[34;01m.\u001b[39;00m\u001b[34;01m_lib\u001b[39;00m\u001b[34;01m.\u001b[39;00m\u001b[34;01m_array_api\u001b[39;00m\u001b[38;5;250m \u001b[39m\u001b[38;5;28;01mimport\u001b[39;00m (Array, array_namespace, is_lazy_array,\n\u001b[32m     15\u001b[39m                                    is_numpy, is_marray, xp_result_device,\n\u001b[32m     16\u001b[39m                                    xp_size, xp_result_type)\n\u001b[32m     17\u001b[39m \u001b[38;5;28;01mfrom\u001b[39;00m\u001b[38;5;250m \u001b[39m\u001b[34;01mscipy\u001b[39;00m\u001b[34;01m.\u001b[39;00m\u001b[34;01m_lib\u001b[39;00m\u001b[34;01m.\u001b[39;00m\u001b[34;01m_docscrape\u001b[39;00m\u001b[38;5;250m \u001b[39m\u001b[38;5;28;01mimport\u001b[39;00m FunctionDoc, Parameter\n\u001b[32m     18\u001b[39m \u001b[38;5;28;01mfrom\u001b[39;00m\u001b[38;5;250m \u001b[39m\u001b[34;01mscipy\u001b[39;00m\u001b[34;01m.\u001b[39;00m\u001b[34;01m_lib\u001b[39;00m\u001b[34;01m.\u001b[39;00m\u001b[34;01m_sparse\u001b[39;00m\u001b[38;5;250m \u001b[39m\u001b[38;5;28;01mimport\u001b[39;00m issparse\n",
      "\u001b[36mFile \u001b[39m\u001b[32m~/opt/anaconda3/envs/jupyterfix/lib/python3.11/site-packages/scipy/_lib/_array_api.py:22\u001b[39m\n\u001b[32m     19\u001b[39m \u001b[38;5;28;01mfrom\u001b[39;00m\u001b[38;5;250m \u001b[39m\u001b[34;01mtyping\u001b[39;00m\u001b[38;5;250m \u001b[39m\u001b[38;5;28;01mimport\u001b[39;00m Any, Literal, TypeAlias\n\u001b[32m     21\u001b[39m \u001b[38;5;28;01mimport\u001b[39;00m\u001b[38;5;250m \u001b[39m\u001b[34;01mnumpy\u001b[39;00m\u001b[38;5;250m \u001b[39m\u001b[38;5;28;01mas\u001b[39;00m\u001b[38;5;250m \u001b[39m\u001b[34;01mnp\u001b[39;00m\n\u001b[32m---> \u001b[39m\u001b[32m22\u001b[39m \u001b[38;5;28;01mimport\u001b[39;00m\u001b[38;5;250m \u001b[39m\u001b[34;01mnumpy\u001b[39;00m\u001b[34;01m.\u001b[39;00m\u001b[34;01mtyping\u001b[39;00m\u001b[38;5;250m \u001b[39m\u001b[38;5;28;01mas\u001b[39;00m\u001b[38;5;250m \u001b[39m\u001b[34;01mnpt\u001b[39;00m\n\u001b[32m     24\u001b[39m \u001b[38;5;28;01mfrom\u001b[39;00m\u001b[38;5;250m \u001b[39m\u001b[34;01mscipy\u001b[39;00m\u001b[34;01m.\u001b[39;00m\u001b[34;01m_lib\u001b[39;00m\u001b[38;5;250m \u001b[39m\u001b[38;5;28;01mimport\u001b[39;00m array_api_compat\n\u001b[32m     25\u001b[39m \u001b[38;5;28;01mfrom\u001b[39;00m\u001b[38;5;250m \u001b[39m\u001b[34;01mscipy\u001b[39;00m\u001b[34;01m.\u001b[39;00m\u001b[34;01m_lib\u001b[39;00m\u001b[34;01m.\u001b[39;00m\u001b[34;01marray_api_compat\u001b[39;00m\u001b[38;5;250m \u001b[39m\u001b[38;5;28;01mimport\u001b[39;00m (\n\u001b[32m     26\u001b[39m     is_array_api_obj,\n\u001b[32m     27\u001b[39m     is_lazy_array,\n\u001b[32m   (...)\u001b[39m\u001b[32m     36\u001b[39m     is_array_api_strict_namespace \u001b[38;5;28;01mas\u001b[39;00m is_array_api_strict\n\u001b[32m     37\u001b[39m )\n",
      "\u001b[36mFile \u001b[39m\u001b[32m~/opt/anaconda3/envs/jupyterfix/lib/python3.11/site-packages/numpy/typing/__init__.py:160\u001b[39m\n\u001b[32m      1\u001b[39m \u001b[33;03m\"\"\"\u001b[39;00m\n\u001b[32m      2\u001b[39m \u001b[33;03m============================\u001b[39;00m\n\u001b[32m      3\u001b[39m \u001b[33;03mTyping (:mod:`numpy.typing`)\u001b[39;00m\n\u001b[32m   (...)\u001b[39m\u001b[32m    153\u001b[39m \n\u001b[32m    154\u001b[39m \u001b[33;03m\"\"\"\u001b[39;00m\n\u001b[32m    155\u001b[39m \u001b[38;5;66;03m# NOTE: The API section will be appended with additional entries\u001b[39;00m\n\u001b[32m    156\u001b[39m \u001b[38;5;66;03m# further down in this file\u001b[39;00m\n\u001b[32m    157\u001b[39m \n\u001b[32m    158\u001b[39m \u001b[38;5;66;03m# pyright: reportDeprecated=false\u001b[39;00m\n\u001b[32m--> \u001b[39m\u001b[32m160\u001b[39m \u001b[38;5;28;01mfrom\u001b[39;00m\u001b[38;5;250m \u001b[39m\u001b[34;01mnumpy\u001b[39;00m\u001b[34;01m.\u001b[39;00m\u001b[34;01m_typing\u001b[39;00m\u001b[38;5;250m \u001b[39m\u001b[38;5;28;01mimport\u001b[39;00m ArrayLike, DTypeLike, NBitBase, NDArray\n\u001b[32m    162\u001b[39m __all__ = [\u001b[33m\"\u001b[39m\u001b[33mArrayLike\u001b[39m\u001b[33m\"\u001b[39m, \u001b[33m\"\u001b[39m\u001b[33mDTypeLike\u001b[39m\u001b[33m\"\u001b[39m, \u001b[33m\"\u001b[39m\u001b[33mNBitBase\u001b[39m\u001b[33m\"\u001b[39m, \u001b[33m\"\u001b[39m\u001b[33mNDArray\u001b[39m\u001b[33m\"\u001b[39m]\n\u001b[32m    165\u001b[39m __DIR = __all__ + [k \u001b[38;5;28;01mfor\u001b[39;00m k \u001b[38;5;129;01min\u001b[39;00m \u001b[38;5;28mglobals\u001b[39m() \u001b[38;5;28;01mif\u001b[39;00m k.startswith(\u001b[33m\"\u001b[39m\u001b[33m__\u001b[39m\u001b[33m\"\u001b[39m) \u001b[38;5;129;01mand\u001b[39;00m k.endswith(\u001b[33m\"\u001b[39m\u001b[33m__\u001b[39m\u001b[33m\"\u001b[39m)]\n",
      "\u001b[36mFile \u001b[39m\u001b[32m~/opt/anaconda3/envs/jupyterfix/lib/python3.11/site-packages/numpy/_typing/__init__.py:3\u001b[39m\n\u001b[32m      1\u001b[39m \u001b[33;03m\"\"\"Private counterpart of ``numpy.typing``.\"\"\"\u001b[39;00m\n\u001b[32m----> \u001b[39m\u001b[32m3\u001b[39m \u001b[38;5;28;01mfrom\u001b[39;00m\u001b[38;5;250m \u001b[39m\u001b[34;01m.\u001b[39;00m\u001b[34;01m_array_like\u001b[39;00m\u001b[38;5;250m \u001b[39m\u001b[38;5;28;01mimport\u001b[39;00m ArrayLike \u001b[38;5;28;01mas\u001b[39;00m ArrayLike\n\u001b[32m      4\u001b[39m \u001b[38;5;28;01mfrom\u001b[39;00m\u001b[38;5;250m \u001b[39m\u001b[34;01m.\u001b[39;00m\u001b[34;01m_array_like\u001b[39;00m\u001b[38;5;250m \u001b[39m\u001b[38;5;28;01mimport\u001b[39;00m NDArray \u001b[38;5;28;01mas\u001b[39;00m NDArray\n\u001b[32m      5\u001b[39m \u001b[38;5;28;01mfrom\u001b[39;00m\u001b[38;5;250m \u001b[39m\u001b[34;01m.\u001b[39;00m\u001b[34;01m_array_like\u001b[39;00m\u001b[38;5;250m \u001b[39m\u001b[38;5;28;01mimport\u001b[39;00m _ArrayLike \u001b[38;5;28;01mas\u001b[39;00m _ArrayLike\n",
      "\u001b[36mFile \u001b[39m\u001b[32m~/opt/anaconda3/envs/jupyterfix/lib/python3.11/site-packages/numpy/_typing/_array_like.py:84\u001b[39m\n\u001b[32m     80\u001b[39m ArrayLike: TypeAlias = _Buffer | _DualArrayLike[dtype[Any], \u001b[38;5;28mcomplex\u001b[39m | \u001b[38;5;28mbytes\u001b[39m | \u001b[38;5;28mstr\u001b[39m]\n\u001b[32m     82\u001b[39m \u001b[38;5;66;03m# `ArrayLike<X>_co`: array-like objects that can be coerced into `X`\u001b[39;00m\n\u001b[32m     83\u001b[39m \u001b[38;5;66;03m# given the casting rules `same_kind`\u001b[39;00m\n\u001b[32m---> \u001b[39m\u001b[32m84\u001b[39m _ArrayLikeBool_co: TypeAlias = _DualArrayLike[dtype[np.bool], \u001b[38;5;28mbool\u001b[39m]\n\u001b[32m     85\u001b[39m _ArrayLikeUInt_co: TypeAlias = _DualArrayLike[dtype[np.bool | np.unsignedinteger], \u001b[38;5;28mbool\u001b[39m]\n\u001b[32m     86\u001b[39m _ArrayLikeInt_co: TypeAlias = _DualArrayLike[dtype[np.bool | np.integer], \u001b[38;5;28mint\u001b[39m]\n",
      "\u001b[36mFile \u001b[39m\u001b[32m~/opt/anaconda3/envs/jupyterfix/lib/python3.11/site-packages/numpy/__init__.py:305\u001b[39m, in \u001b[36m__getattr__\u001b[39m\u001b[34m(attr)\u001b[39m\n\u001b[32m    117\u001b[39m     \u001b[38;5;28;01mraise\u001b[39;00m \u001b[38;5;167;01mImportError\u001b[39;00m(msg) \u001b[38;5;28;01mfrom\u001b[39;00m\u001b[38;5;250m \u001b[39m\u001b[34;01me\u001b[39;00m\n\u001b[32m    119\u001b[39m \u001b[38;5;28;01mfrom\u001b[39;00m\u001b[38;5;250m \u001b[39m\u001b[34;01m.\u001b[39;00m\u001b[38;5;250m \u001b[39m\u001b[38;5;28;01mimport\u001b[39;00m _core\n\u001b[32m    120\u001b[39m \u001b[38;5;28;01mfrom\u001b[39;00m\u001b[38;5;250m \u001b[39m\u001b[34;01m.\u001b[39;00m\u001b[34;01m_core\u001b[39;00m\u001b[38;5;250m \u001b[39m\u001b[38;5;28;01mimport\u001b[39;00m (\n\u001b[32m    121\u001b[39m     False_,\n\u001b[32m    122\u001b[39m     ScalarType,\n\u001b[32m    123\u001b[39m     True_,\n\u001b[32m    124\u001b[39m     \u001b[38;5;28mabs\u001b[39m,\n\u001b[32m    125\u001b[39m     absolute,\n\u001b[32m    126\u001b[39m     acos,\n\u001b[32m    127\u001b[39m     acosh,\n\u001b[32m    128\u001b[39m     add,\n\u001b[32m    129\u001b[39m     \u001b[38;5;28mall\u001b[39m,\n\u001b[32m    130\u001b[39m     allclose,\n\u001b[32m    131\u001b[39m     amax,\n\u001b[32m    132\u001b[39m     amin,\n\u001b[32m    133\u001b[39m     \u001b[38;5;28many\u001b[39m,\n\u001b[32m    134\u001b[39m     arange,\n\u001b[32m    135\u001b[39m     arccos,\n\u001b[32m    136\u001b[39m     arccosh,\n\u001b[32m    137\u001b[39m     arcsin,\n\u001b[32m    138\u001b[39m     arcsinh,\n\u001b[32m    139\u001b[39m     arctan,\n\u001b[32m    140\u001b[39m     arctan2,\n\u001b[32m    141\u001b[39m     arctanh,\n\u001b[32m    142\u001b[39m     argmax,\n\u001b[32m    143\u001b[39m     argmin,\n\u001b[32m    144\u001b[39m     argpartition,\n\u001b[32m    145\u001b[39m     argsort,\n\u001b[32m    146\u001b[39m     argwhere,\n\u001b[32m    147\u001b[39m     around,\n\u001b[32m    148\u001b[39m     array,\n\u001b[32m    149\u001b[39m     array2string,\n\u001b[32m    150\u001b[39m     array_equal,\n\u001b[32m    151\u001b[39m     array_equiv,\n\u001b[32m    152\u001b[39m     array_repr,\n\u001b[32m    153\u001b[39m     array_str,\n\u001b[32m    154\u001b[39m     asanyarray,\n\u001b[32m    155\u001b[39m     asarray,\n\u001b[32m    156\u001b[39m     ascontiguousarray,\n\u001b[32m    157\u001b[39m     asfortranarray,\n\u001b[32m    158\u001b[39m     asin,\n\u001b[32m    159\u001b[39m     asinh,\n\u001b[32m    160\u001b[39m     astype,\n\u001b[32m    161\u001b[39m     atan,\n\u001b[32m    162\u001b[39m     atan2,\n\u001b[32m    163\u001b[39m     atanh,\n\u001b[32m    164\u001b[39m     atleast_1d,\n\u001b[32m    165\u001b[39m     atleast_2d,\n\u001b[32m    166\u001b[39m     atleast_3d,\n\u001b[32m    167\u001b[39m     base_repr,\n\u001b[32m    168\u001b[39m     binary_repr,\n\u001b[32m    169\u001b[39m     bitwise_and,\n\u001b[32m    170\u001b[39m     bitwise_count,\n\u001b[32m    171\u001b[39m     bitwise_invert,\n\u001b[32m    172\u001b[39m     bitwise_left_shift,\n\u001b[32m    173\u001b[39m     bitwise_not,\n\u001b[32m    174\u001b[39m     bitwise_or,\n\u001b[32m    175\u001b[39m     bitwise_right_shift,\n\u001b[32m    176\u001b[39m     bitwise_xor,\n\u001b[32m    177\u001b[39m     block,\n\u001b[32m    178\u001b[39m     \u001b[38;5;28mbool\u001b[39m,\n\u001b[32m    179\u001b[39m     bool_,\n\u001b[32m    180\u001b[39m     broadcast,\n\u001b[32m    181\u001b[39m     busday_count,\n\u001b[32m    182\u001b[39m     busday_offset,\n\u001b[32m    183\u001b[39m     busdaycalendar,\n\u001b[32m    184\u001b[39m     byte,\n\u001b[32m    185\u001b[39m     bytes_,\n\u001b[32m    186\u001b[39m     can_cast,\n\u001b[32m    187\u001b[39m     cbrt,\n\u001b[32m    188\u001b[39m     cdouble,\n\u001b[32m    189\u001b[39m     ceil,\n\u001b[32m    190\u001b[39m     character,\n\u001b[32m    191\u001b[39m     choose,\n\u001b[32m    192\u001b[39m     clip,\n\u001b[32m    193\u001b[39m     clongdouble,\n\u001b[32m    194\u001b[39m     complex64,\n\u001b[32m    195\u001b[39m     complex128,\n\u001b[32m    196\u001b[39m     complexfloating,\n\u001b[32m    197\u001b[39m     compress,\n\u001b[32m    198\u001b[39m     concat,\n\u001b[32m    199\u001b[39m     concatenate,\n\u001b[32m    200\u001b[39m     conj,\n\u001b[32m    201\u001b[39m     conjugate,\n\u001b[32m    202\u001b[39m     convolve,\n\u001b[32m    203\u001b[39m     copysign,\n\u001b[32m    204\u001b[39m     copyto,\n\u001b[32m    205\u001b[39m     correlate,\n\u001b[32m    206\u001b[39m     cos,\n\u001b[32m    207\u001b[39m     cosh,\n\u001b[32m    208\u001b[39m     count_nonzero,\n\u001b[32m    209\u001b[39m     cross,\n\u001b[32m    210\u001b[39m     csingle,\n\u001b[32m    211\u001b[39m     cumprod,\n\u001b[32m    212\u001b[39m     cumsum,\n\u001b[32m    213\u001b[39m     cumulative_prod,\n\u001b[32m    214\u001b[39m     cumulative_sum,\n\u001b[32m    215\u001b[39m     datetime64,\n\u001b[32m    216\u001b[39m     datetime_as_string,\n\u001b[32m    217\u001b[39m     datetime_data,\n\u001b[32m    218\u001b[39m     deg2rad,\n\u001b[32m    219\u001b[39m     degrees,\n\u001b[32m    220\u001b[39m     diagonal,\n\u001b[32m    221\u001b[39m     divide,\n\u001b[32m    222\u001b[39m     \u001b[38;5;28mdivmod\u001b[39m,\n\u001b[32m    223\u001b[39m     dot,\n\u001b[32m    224\u001b[39m     double,\n\u001b[32m    225\u001b[39m     dtype,\n\u001b[32m    226\u001b[39m     e,\n\u001b[32m    227\u001b[39m     einsum,\n\u001b[32m    228\u001b[39m     einsum_path,\n\u001b[32m    229\u001b[39m     empty,\n\u001b[32m    230\u001b[39m     empty_like,\n\u001b[32m    231\u001b[39m     equal,\n\u001b[32m    232\u001b[39m     errstate,\n\u001b[32m    233\u001b[39m     euler_gamma,\n\u001b[32m    234\u001b[39m     exp,\n\u001b[32m    235\u001b[39m     exp2,\n\u001b[32m    236\u001b[39m     expm1,\n\u001b[32m    237\u001b[39m     fabs,\n\u001b[32m    238\u001b[39m     finfo,\n\u001b[32m    239\u001b[39m     flatiter,\n\u001b[32m    240\u001b[39m     flatnonzero,\n\u001b[32m    241\u001b[39m     flexible,\n\u001b[32m    242\u001b[39m     float16,\n\u001b[32m    243\u001b[39m     float32,\n\u001b[32m    244\u001b[39m     float64,\n\u001b[32m    245\u001b[39m     float_power,\n\u001b[32m    246\u001b[39m     floating,\n\u001b[32m    247\u001b[39m     floor,\n\u001b[32m    248\u001b[39m     floor_divide,\n\u001b[32m    249\u001b[39m     fmax,\n\u001b[32m    250\u001b[39m     fmin,\n\u001b[32m    251\u001b[39m     fmod,\n\u001b[32m    252\u001b[39m     format_float_positional,\n\u001b[32m    253\u001b[39m     format_float_scientific,\n\u001b[32m    254\u001b[39m     frexp,\n\u001b[32m    255\u001b[39m     from_dlpack,\n\u001b[32m    256\u001b[39m     frombuffer,\n\u001b[32m    257\u001b[39m     fromfile,\n\u001b[32m    258\u001b[39m     fromfunction,\n\u001b[32m    259\u001b[39m     fromiter,\n\u001b[32m    260\u001b[39m     frompyfunc,\n\u001b[32m    261\u001b[39m     fromstring,\n\u001b[32m    262\u001b[39m     full,\n\u001b[32m    263\u001b[39m     full_like,\n\u001b[32m    264\u001b[39m     gcd,\n\u001b[32m    265\u001b[39m     generic,\n\u001b[32m    266\u001b[39m     geomspace,\n\u001b[32m    267\u001b[39m     get_printoptions,\n\u001b[32m    268\u001b[39m     getbufsize,\n\u001b[32m    269\u001b[39m     geterr,\n\u001b[32m    270\u001b[39m     geterrcall,\n\u001b[32m    271\u001b[39m     greater,\n\u001b[32m    272\u001b[39m     greater_equal,\n\u001b[32m    273\u001b[39m     half,\n\u001b[32m    274\u001b[39m     heaviside,\n\u001b[32m    275\u001b[39m     hstack,\n\u001b[32m    276\u001b[39m     hypot,\n\u001b[32m    277\u001b[39m     identity,\n\u001b[32m    278\u001b[39m     iinfo,\n\u001b[32m    279\u001b[39m     indices,\n\u001b[32m    280\u001b[39m     inexact,\n\u001b[32m    281\u001b[39m     inf,\n\u001b[32m    282\u001b[39m     inner,\n\u001b[32m    283\u001b[39m     int8,\n\u001b[32m    284\u001b[39m     int16,\n\u001b[32m    285\u001b[39m     int32,\n\u001b[32m    286\u001b[39m     int64,\n\u001b[32m    287\u001b[39m     int_,\n\u001b[32m    288\u001b[39m     intc,\n\u001b[32m    289\u001b[39m     integer,\n\u001b[32m    290\u001b[39m     intp,\n\u001b[32m    291\u001b[39m     invert,\n\u001b[32m    292\u001b[39m     is_busday,\n\u001b[32m    293\u001b[39m     isclose,\n\u001b[32m    294\u001b[39m     isdtype,\n\u001b[32m    295\u001b[39m     isfinite,\n\u001b[32m    296\u001b[39m     isfortran,\n\u001b[32m    297\u001b[39m     isinf,\n\u001b[32m    298\u001b[39m     isnan,\n\u001b[32m    299\u001b[39m     isnat,\n\u001b[32m    300\u001b[39m     isscalar,\n\u001b[32m    301\u001b[39m     issubdtype,\n\u001b[32m    302\u001b[39m     lcm,\n\u001b[32m    303\u001b[39m     ldexp,\n\u001b[32m    304\u001b[39m     left_shift,\n\u001b[32m--> \u001b[39m\u001b[32m305\u001b[39m     less,\n\u001b[32m    306\u001b[39m     less_equal,\n\u001b[32m    307\u001b[39m     lexsort,\n\u001b[32m    308\u001b[39m     linspace,\n\u001b[32m    309\u001b[39m     little_endian,\n\u001b[32m    310\u001b[39m     log,\n\u001b[32m    311\u001b[39m     log1p,\n\u001b[32m    312\u001b[39m     log2,\n\u001b[32m    313\u001b[39m     log10,\n\u001b[32m    314\u001b[39m     logaddexp,\n\u001b[32m    315\u001b[39m     logaddexp2,\n\u001b[32m    316\u001b[39m     logical_and,\n\u001b[32m    317\u001b[39m     logical_not,\n\u001b[32m    318\u001b[39m     logical_or,\n\u001b[32m    319\u001b[39m     logical_xor,\n\u001b[32m    320\u001b[39m     logspace,\n\u001b[32m    321\u001b[39m     long,\n\u001b[32m    322\u001b[39m     longdouble,\n\u001b[32m    323\u001b[39m     longlong,\n\u001b[32m    324\u001b[39m     matmul,\n\u001b[32m    325\u001b[39m     matrix_transpose,\n\u001b[32m    326\u001b[39m     matvec,\n\u001b[32m    327\u001b[39m     \u001b[38;5;28mmax\u001b[39m,\n\u001b[32m    328\u001b[39m     maximum,\n\u001b[32m    329\u001b[39m     may_share_memory,\n\u001b[32m    330\u001b[39m     mean,\n\u001b[32m    331\u001b[39m     memmap,\n\u001b[32m    332\u001b[39m     \u001b[38;5;28mmin\u001b[39m,\n\u001b[32m    333\u001b[39m     min_scalar_type,\n\u001b[32m    334\u001b[39m     minimum,\n\u001b[32m    335\u001b[39m     mod,\n\u001b[32m    336\u001b[39m     modf,\n\u001b[32m    337\u001b[39m     moveaxis,\n\u001b[32m    338\u001b[39m     multiply,\n\u001b[32m    339\u001b[39m     nan,\n\u001b[32m    340\u001b[39m     ndarray,\n\u001b[32m    341\u001b[39m     ndim,\n\u001b[32m    342\u001b[39m     nditer,\n\u001b[32m    343\u001b[39m     negative,\n\u001b[32m    344\u001b[39m     nested_iters,\n\u001b[32m    345\u001b[39m     newaxis,\n\u001b[32m    346\u001b[39m     nextafter,\n\u001b[32m    347\u001b[39m     nonzero,\n\u001b[32m    348\u001b[39m     not_equal,\n\u001b[32m    349\u001b[39m     number,\n\u001b[32m    350\u001b[39m     object_,\n\u001b[32m    351\u001b[39m     ones,\n\u001b[32m    352\u001b[39m     ones_like,\n\u001b[32m    353\u001b[39m     outer,\n\u001b[32m    354\u001b[39m     partition,\n\u001b[32m    355\u001b[39m     permute_dims,\n\u001b[32m    356\u001b[39m     pi,\n\u001b[32m    357\u001b[39m     positive,\n\u001b[32m    358\u001b[39m     \u001b[38;5;28mpow\u001b[39m,\n\u001b[32m    359\u001b[39m     power,\n\u001b[32m    360\u001b[39m     printoptions,\n\u001b[32m    361\u001b[39m     prod,\n\u001b[32m    362\u001b[39m     promote_types,\n\u001b[32m    363\u001b[39m     ptp,\n\u001b[32m    364\u001b[39m     put,\n\u001b[32m    365\u001b[39m     putmask,\n\u001b[32m    366\u001b[39m     rad2deg,\n\u001b[32m    367\u001b[39m     radians,\n\u001b[32m    368\u001b[39m     ravel,\n\u001b[32m    369\u001b[39m     recarray,\n\u001b[32m    370\u001b[39m     reciprocal,\n\u001b[32m    371\u001b[39m     record,\n\u001b[32m    372\u001b[39m     remainder,\n\u001b[32m    373\u001b[39m     repeat,\n\u001b[32m    374\u001b[39m     require,\n\u001b[32m    375\u001b[39m     reshape,\n\u001b[32m    376\u001b[39m     resize,\n\u001b[32m    377\u001b[39m     result_type,\n\u001b[32m    378\u001b[39m     right_shift,\n\u001b[32m    379\u001b[39m     rint,\n\u001b[32m    380\u001b[39m     roll,\n\u001b[32m    381\u001b[39m     rollaxis,\n\u001b[32m    382\u001b[39m     \u001b[38;5;28mround\u001b[39m,\n\u001b[32m    383\u001b[39m     sctypeDict,\n\u001b[32m    384\u001b[39m     searchsorted,\n\u001b[32m    385\u001b[39m     set_printoptions,\n\u001b[32m    386\u001b[39m     setbufsize,\n\u001b[32m    387\u001b[39m     seterr,\n\u001b[32m    388\u001b[39m     seterrcall,\n\u001b[32m    389\u001b[39m     shape,\n\u001b[32m    390\u001b[39m     shares_memory,\n\u001b[32m    391\u001b[39m     short,\n\u001b[32m    392\u001b[39m     sign,\n\u001b[32m    393\u001b[39m     signbit,\n\u001b[32m    394\u001b[39m     signedinteger,\n\u001b[32m    395\u001b[39m     sin,\n\u001b[32m    396\u001b[39m     single,\n\u001b[32m    397\u001b[39m     sinh,\n\u001b[32m    398\u001b[39m     size,\n\u001b[32m    399\u001b[39m     sort,\n\u001b[32m    400\u001b[39m     spacing,\n\u001b[32m    401\u001b[39m     sqrt,\n\u001b[32m    402\u001b[39m     square,\n\u001b[32m    403\u001b[39m     squeeze,\n\u001b[32m    404\u001b[39m     stack,\n\u001b[32m    405\u001b[39m     std,\n\u001b[32m    406\u001b[39m     str_,\n\u001b[32m    407\u001b[39m     subtract,\n\u001b[32m    408\u001b[39m     \u001b[38;5;28msum\u001b[39m,\n\u001b[32m    409\u001b[39m     swapaxes,\n\u001b[32m    410\u001b[39m     take,\n\u001b[32m    411\u001b[39m     tan,\n\u001b[32m    412\u001b[39m     tanh,\n\u001b[32m    413\u001b[39m     tensordot,\n\u001b[32m    414\u001b[39m     timedelta64,\n\u001b[32m    415\u001b[39m     trace,\n\u001b[32m    416\u001b[39m     transpose,\n\u001b[32m    417\u001b[39m     true_divide,\n\u001b[32m    418\u001b[39m     trunc,\n\u001b[32m    419\u001b[39m     typecodes,\n\u001b[32m    420\u001b[39m     ubyte,\n\u001b[32m    421\u001b[39m     ufunc,\n\u001b[32m    422\u001b[39m     uint,\n\u001b[32m    423\u001b[39m     uint8,\n\u001b[32m    424\u001b[39m     uint16,\n\u001b[32m    425\u001b[39m     uint32,\n\u001b[32m    426\u001b[39m     uint64,\n\u001b[32m    427\u001b[39m     uintc,\n\u001b[32m    428\u001b[39m     uintp,\n\u001b[32m    429\u001b[39m     ulong,\n\u001b[32m    430\u001b[39m     ulonglong,\n\u001b[32m    431\u001b[39m     unsignedinteger,\n\u001b[32m    432\u001b[39m     unstack,\n\u001b[32m    433\u001b[39m     ushort,\n\u001b[32m    434\u001b[39m     var,\n\u001b[32m    435\u001b[39m     vdot,\n\u001b[32m    436\u001b[39m     vecdot,\n\u001b[32m    437\u001b[39m     vecmat,\n\u001b[32m    438\u001b[39m     void,\n\u001b[32m    439\u001b[39m     vstack,\n\u001b[32m    440\u001b[39m     where,\n\u001b[32m    441\u001b[39m     zeros,\n\u001b[32m    442\u001b[39m     zeros_like,\n\u001b[32m    443\u001b[39m )\n\u001b[32m    445\u001b[39m \u001b[38;5;66;03m# NOTE: It's still under discussion whether these aliases\u001b[39;00m\n\u001b[32m    446\u001b[39m \u001b[38;5;66;03m# should be removed.\u001b[39;00m\n\u001b[32m    447\u001b[39m \u001b[38;5;28;01mfor\u001b[39;00m ta \u001b[38;5;129;01min\u001b[39;00m [\u001b[33m\"\u001b[39m\u001b[33mfloat96\u001b[39m\u001b[33m\"\u001b[39m, \u001b[33m\"\u001b[39m\u001b[33mfloat128\u001b[39m\u001b[33m\"\u001b[39m, \u001b[33m\"\u001b[39m\u001b[33mcomplex192\u001b[39m\u001b[33m\"\u001b[39m, \u001b[33m\"\u001b[39m\u001b[33mcomplex256\u001b[39m\u001b[33m\"\u001b[39m]:\n",
      "\u001b[31mAttributeError\u001b[39m: module 'numpy' has no attribute 'bool'.\n`np.bool` was a deprecated alias for the builtin `bool`. To avoid this error in existing code, use `bool` by itself. Doing this will not modify any behavior and is safe. If you specifically wanted the numpy scalar type, use `np.bool_` here.\nThe aliases was originally deprecated in NumPy 1.20; for more details and guidance see the original release note at:\n    https://numpy.org/devdocs/release/1.20.0-notes.html#deprecations"
     ]
    }
   ],
   "source": [
    "import matplotlib.pyplot as plt\n",
    "import seaborn as sns\n",
    "\n",
    "# Plot top 10 industries with highest average 'joy'\n",
    "plt.figure(figsize=(10, 6))\n",
    "top_industries = industry_emotions_sorted['joy'].head(10)\n",
    "\n",
    "sns.barplot(x=top_industries.values, y=top_industries.index, palette=\"Blues_r\")\n",
    "plt.title(\"Top 10 Industries with Highest Average 'Joy' in Job Descriptions\")\n",
    "plt.xlabel(\"Average Joy Score\")\n",
    "plt.ylabel(\"Industry\")\n",
    "plt.tight_layout()\n",
    "plt.show()\n"
   ]
  },
  {
   "cell_type": "code",
   "execution_count": null,
   "id": "92d689f9-a66d-4620-b907-5d9bd5675ed4",
   "metadata": {},
   "outputs": [],
   "source": []
  }
 ],
 "metadata": {
  "kernelspec": {
   "display_name": "Python 3 (ipykernel)",
   "language": "python",
   "name": "python3"
  },
  "language_info": {
   "codemirror_mode": {
    "name": "ipython",
    "version": 3
   },
   "file_extension": ".py",
   "mimetype": "text/x-python",
   "name": "python",
   "nbconvert_exporter": "python",
   "pygments_lexer": "ipython3",
   "version": "3.11.13"
  }
 },
 "nbformat": 4,
 "nbformat_minor": 5
}
